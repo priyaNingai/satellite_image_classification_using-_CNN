{
 "cells": [
  {
   "cell_type": "code",
   "execution_count": 1,
   "metadata": {
    "collapsed": true
   },
   "outputs": [],
   "source": [
    "import scipy.io as sio\n",
    "import numpy as np"
   ]
  },
  {
   "cell_type": "markdown",
   "metadata": {},
   "source": [
    "## Load SAT-6 training and test data\n",
    "### sat-6-full.mat contains the following variables:\n",
    "```\n",
    "train_x        --------------    28x28x4x324000 uint8  (containing 324000 training samples of 28x28 images each with 4 channels - R, G, B and NIR)\n",
    "train_y        --------------    6x324000       double (containing 6x1 vectors having labels for the 324000 training samples)\n",
    "test_x         --------------    28x28x4x81000  uint8  (containing 81000 test samples of 28x28 images each with 4 channels - R, G, B and NIR)\n",
    "test_y         --------------    6x81000        double (containing 6x1 vectors having labels for the 81000 test samples)\n",
    "annotations    --------------    6x2            cell   (containing the class label annotations for the 6 classes of SAT-6)\n",
    "```"
   ]
  },
  {
   "cell_type": "code",
   "execution_count": 2,
   "metadata": {},
   "outputs": [
    {
     "name": "stdout",
     "output_type": "stream",
     "text": [
      "(324000, 4, 28, 28) (324000, 6) (81000, 4, 28, 28) (81000, 6) [[array([u'100000'],\n",
      "      dtype='<U6')\n",
      "  array([u'building'],\n",
      "      dtype='<U8')]\n",
      " [array([u'010000'],\n",
      "      dtype='<U6')\n",
      "  array([u'barren land'],\n",
      "      dtype='<U11')]\n",
      " [array([u'001000'],\n",
      "      dtype='<U6')\n",
      "  array([u'trees'],\n",
      "      dtype='<U5')]\n",
      " [array([u'000100'],\n",
      "      dtype='<U6')\n",
      "  array([u'grassland'],\n",
      "      dtype='<U9')]\n",
      " [array([u'000010'],\n",
      "      dtype='<U6') array([u'road'],\n",
      "      dtype='<U4')]\n",
      " [array([u'000001'],\n",
      "      dtype='<U6')\n",
      "  array([u'water'],\n",
      "      dtype='<U5')]]\n",
      "(324000, 28, 28, 4) (81000, 28, 28, 4)\n"
     ]
    }
   ],
   "source": [
    "data = sio.loadmat('/home/gadiraju/data/bl-slums/sat-6-full.mat')\n",
    "train_X = data['train_x'].transpose()\n",
    "train_Y = data['train_y'].transpose()\n",
    "test_X = data['test_x'].transpose()\n",
    "test_Y = data['test_y'].transpose()\n",
    "annotations = data['annotations']\n",
    "\n",
    "print train_X.shape, train_Y.shape, test_X.shape, test_Y.shape, annotations\n",
    "\n",
    "train_X = train_X.reshape(train_X.shape[0], 28,28,4)\n",
    "test_X = test_X.reshape(test_X.shape[0],28,28,4)full \n",
    "\n",
    "print train_X.shape, test_X.shape"
   ]
  },
  {
   "cell_type": "markdown",
   "metadata": {},
   "source": [
    "## Get class proportions in training and test in SAT-6"
   ]
  },
  {
   "cell_type": "code",
   "execution_count": 3,
   "metadata": {},
   "outputs": [
    {
     "name": "stdout",
     "output_type": "stream",
     "text": [
      "[ 14923  73397  56809  50347   8192 120332] [ 3714 18367 14185 12596  2070 30068]\n"
     ]
    }
   ],
   "source": [
    "per_class_counts_train = np.sum(train_Y, axis =0)\n",
    "per_class_counts_test = np.sum(test_Y, axis=0)\n",
    "\n",
    "print per_class_counts_train, per_class_counts_test"
   ]
  },
  {
   "cell_type": "markdown",
   "metadata": {},
   "source": [
    "## Divide training set into train and validation\n",
    "### Also reshape the arrays to be suitable with tflearn"
   ]
  },
  {
   "cell_type": "code",
   "execution_count": 20,
   "metadata": {},
   "outputs": [
    {
     "name": "stdout",
     "output_type": "stream",
     "text": [
      "{0: None, 1: None, 2: None, 3: None, 4: None, 5: None}\n",
      "14923 11938 2984\n",
      "73397 58717 14679\n",
      "56809 45447 11361\n",
      "50347 40277 10069\n",
      "8192 6553 1638\n",
      "120332 96265 24066\n",
      "(259197, 28, 28, 4) (259197, 6) (64797, 28, 28, 4) (64797, 6)\n"
     ]
    }
   ],
   "source": [
    "P_TRAIN = 0.8\n",
    "P_VAL = 1 - P_TRAIN\n",
    "\n",
    "train_X_indices = dict.fromkeys(range(6))\n",
    "print train_X_indices\n",
    "\n",
    "for k in range(6):\n",
    "    train_X_indices[k] = []\n",
    "\n",
    "for i in range(train_X.shape[0]):#train_X.shape[0]\n",
    "    current_class = train_Y[i]\n",
    "    k, = np.where(current_class==1)\n",
    "    #print k[0]\n",
    "    train_X_indices[k[0]].append(i)\n",
    "\n",
    "\n",
    "trainX=[]\n",
    "trainY=[]\n",
    "testX=[]\n",
    "testY=[]\n",
    "valX=[]\n",
    "valY=[]\n",
    "\n",
    "for k in range(6):\n",
    "    n_train = int(P_TRAIN*len(train_X_indices[k]))\n",
    "    per_class_indices = train_X_indices[k]\n",
    "    train_indices = per_class_indices[0:n_train]\n",
    "    val_indices = per_class_indices[n_train+1:len(train_X_indices[k])]\n",
    "    print len(per_class_indices), len(train_indices), len(val_indices)\n",
    "    for ind in train_indices:\n",
    "        trainX.append(train_X[ind,:,:,:])\n",
    "        trainY.append(train_Y[ind,:])\n",
    "    for ind in val_indices:\n",
    "        valX.append(train_X[ind,:,:,:])\n",
    "        valY.append(train_Y[ind,:])\n",
    "\n",
    "trainX = np.asarray(trainX)\n",
    "trainY = np.asarray(trainY)\n",
    "valX = np.asarray(valX)\n",
    "valY = np.asarray(valY)\n",
    "\n",
    "print trainX.shape, trainY.shape, valX.shape, valY.shape"
   ]
  },
  {
   "cell_type": "code",
   "execution_count": 21,
   "metadata": {},
   "outputs": [
    {
     "name": "stdout",
     "output_type": "stream",
     "text": [
      "[[1 0 0 0 0 0]\n",
      " [1 0 0 0 0 0]\n",
      " [1 0 0 0 0 0]\n",
      " ..., \n",
      " [0 0 0 0 0 1]\n",
      " [0 0 0 0 0 1]\n",
      " [0 0 0 0 0 1]]\n"
     ]
    }
   ],
   "source": [
    "print valY"
   ]
  },
  {
   "cell_type": "markdown",
   "metadata": {},
   "source": [
    "## Write train and validation files to disk"
   ]
  },
  {
   "cell_type": "code",
   "execution_count": 22,
   "metadata": {
    "collapsed": true
   },
   "outputs": [],
   "source": [
    "import pickle\n",
    "\n",
    "f = open('/home/gadiraju/data/bl-slums/trainSATX','w')\n",
    "pickle.dump(trainX,f)\n",
    "f.close()\n",
    "\n",
    "f = open('/home/gadiraju/data/bl-slums/trainSATY','w')\n",
    "pickle.dump(trainY,f)\n",
    "f.close()\n",
    "\n",
    "f = open('/home/gadiraju/data/bl-slums/valSATX','w')\n",
    "pickle.dump(valX,f)\n",
    "f.close()\n",
    "\n",
    "f = open('/home/gadiraju/data/bl-slums/valSATY','w')\n",
    "pickle.dump(valY,f)\n",
    "f.close()\n",
    "\n",
    "f = open('/home/gadiraju/data/bl-slums/testSATX','w')\n",
    "pickle.dump(testX,f)\n",
    "f.close()\n",
    "\n",
    "f = open('/home/gadiraju/data/bl-slums/testSATY','w')\n",
    "pickle.dump(testY,f)\n",
    "f.close()"
   ]
  },
  {
   "cell_type": "code",
   "execution_count": null,
   "metadata": {
    "collapsed": true
   },
   "outputs": [],
   "source": []
  }
 ],
 "metadata": {
  "kernelspec": {
   "display_name": "Python 2",
   "language": "python",
   "name": "python2"
  },
  "language_info": {
   "codemirror_mode": {
    "name": "ipython",
    "version": 2
   },
   "file_extension": ".py",
   "mimetype": "text/x-python",
   "name": "python",
   "nbconvert_exporter": "python",
   "pygments_lexer": "ipython2",
   "version": "2.7.13"
  }
 },
 "nbformat": 4,
 "nbformat_minor": 2
}
